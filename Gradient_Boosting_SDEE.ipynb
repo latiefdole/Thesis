{
  "nbformat": 4,
  "nbformat_minor": 0,
  "metadata": {
    "kernelspec": {
      "display_name": "Python 3",
      "language": "python",
      "name": "python3"
    },
    "language_info": {
      "codemirror_mode": {
        "name": "ipython",
        "version": 3
      },
      "file_extension": ".py",
      "mimetype": "text/x-python",
      "name": "python",
      "nbconvert_exporter": "python",
      "pygments_lexer": "ipython3",
      "version": "3.8.3"
    },
    "colab": {
      "name": "Gradient Boosting SDEE.ipynb",
      "provenance": [],
      "include_colab_link": true
    }
  },
  "cells": [
    {
      "cell_type": "markdown",
      "metadata": {
        "id": "view-in-github",
        "colab_type": "text"
      },
      "source": [
        "<a href=\"https://colab.research.google.com/github/latiefdole/Thesis/blob/main/Gradient_Boosting_SDEE.ipynb\" target=\"_parent\"><img src=\"https://colab.research.google.com/assets/colab-badge.svg\" alt=\"Open In Colab\"/></a>"
      ]
    },
    {
      "cell_type": "code",
      "metadata": {
        "jupyter": {
          "outputs_hidden": false
        },
        "id": "S6IR654wpow6"
      },
      "source": [
        "%matplotlib inline"
      ],
      "execution_count": 4,
      "outputs": []
    },
    {
      "cell_type": "markdown",
      "metadata": {
        "id": "jgj7dMlypow8"
      },
      "source": [
        "\n",
        "# Gradient Boosting regression\n",
        "\n",
        "This example demonstrates Gradient Boosting to produce a predictive\n",
        "model from an ensemble of weak predictive models. Gradient boosting can be used\n",
        "for regression and classification problems. Here, we will train a model to\n",
        "tackle a diabetes regression task. We will obtain the results from\n",
        ":class:`~sklearn.ensemble.GradientBoostingRegressor` with least squares loss\n",
        "and 500 regression trees of depth 4.\n",
        "\n",
        "Note: For larger datasets (n_samples >= 10000), please refer to\n",
        ":class:`~sklearn.ensemble.HistGradientBoostingRegressor`.\n"
      ]
    },
    {
      "cell_type": "code",
      "metadata": {
        "jupyter": {
          "outputs_hidden": false
        },
        "id": "xkoyd85Apow9"
      },
      "source": [
        "import matplotlib.pyplot as plt\n",
        "import numpy as np\n",
        "import pandas as pd\n",
        "from sklearn import datasets, ensemble\n",
        "from sklearn.inspection import permutation_importance\n",
        "from sklearn.metrics import mean_squared_error, median_absolute_error, r2_score, mean_squared_log_error\n",
        "from sklearn.model_selection import train_test_split"
      ],
      "execution_count": 5,
      "outputs": []
    },
    {
      "cell_type": "code",
      "metadata": {
        "colab": {
          "base_uri": "https://localhost:8080/"
        },
        "id": "g-9p4JNBpzT-",
        "outputId": "6618a9b7-2350-4ae9-f4af-f0b4ab48a60a"
      },
      "source": [
        "from google.colab import drive\n",
        "drive.mount('/content/drive')"
      ],
      "execution_count": 6,
      "outputs": [
        {
          "output_type": "stream",
          "text": [
            "Drive already mounted at /content/drive; to attempt to forcibly remount, call drive.mount(\"/content/drive\", force_remount=True).\n"
          ],
          "name": "stdout"
        }
      ]
    },
    {
      "cell_type": "markdown",
      "metadata": {
        "id": "CjYEmJ8bpow9"
      },
      "source": [
        "## Load the data\n",
        "\n",
        "First we need to load the data.\n",
        "\n"
      ]
    },
    {
      "cell_type": "code",
      "metadata": {
        "jupyter": {
          "outputs_hidden": false
        },
        "colab": {
          "base_uri": "https://localhost:8080/",
          "height": 315
        },
        "id": "2YsMKHDJpow-",
        "outputId": "ef37cbe2-f190-49c3-d538-5b3f7e21b3fb"
      },
      "source": [
        "dataset = pd.read_csv('/content/drive/MyDrive/Colab Notebooks/chinaOriginal1.csv')\n",
        "dataset.describe().round(2)"
      ],
      "execution_count": 7,
      "outputs": [
        {
          "output_type": "execute_result",
          "data": {
            "text/html": [
              "<div>\n",
              "<style scoped>\n",
              "    .dataframe tbody tr th:only-of-type {\n",
              "        vertical-align: middle;\n",
              "    }\n",
              "\n",
              "    .dataframe tbody tr th {\n",
              "        vertical-align: top;\n",
              "    }\n",
              "\n",
              "    .dataframe thead th {\n",
              "        text-align: right;\n",
              "    }\n",
              "</style>\n",
              "<table border=\"1\" class=\"dataframe\">\n",
              "  <thead>\n",
              "    <tr style=\"text-align: right;\">\n",
              "      <th></th>\n",
              "      <th>AFP</th>\n",
              "      <th>Input</th>\n",
              "      <th>Output</th>\n",
              "      <th>Enquiry</th>\n",
              "      <th>File</th>\n",
              "      <th>Interface</th>\n",
              "      <th>Added</th>\n",
              "      <th>Changed</th>\n",
              "      <th>Deleted</th>\n",
              "      <th>PDR_AFP</th>\n",
              "      <th>PDR_UFP</th>\n",
              "      <th>NPDR_AFP</th>\n",
              "      <th>NPDU_UFP</th>\n",
              "      <th>Resource</th>\n",
              "      <th>Dev.Type</th>\n",
              "      <th>Duration</th>\n",
              "      <th>N_effort</th>\n",
              "      <th>Effort</th>\n",
              "    </tr>\n",
              "  </thead>\n",
              "  <tbody>\n",
              "    <tr>\n",
              "      <th>count</th>\n",
              "      <td>499.00</td>\n",
              "      <td>499.00</td>\n",
              "      <td>499.00</td>\n",
              "      <td>499.00</td>\n",
              "      <td>499.00</td>\n",
              "      <td>499.00</td>\n",
              "      <td>499.00</td>\n",
              "      <td>499.00</td>\n",
              "      <td>499.00</td>\n",
              "      <td>499.00</td>\n",
              "      <td>499.00</td>\n",
              "      <td>499.00</td>\n",
              "      <td>499.00</td>\n",
              "      <td>499.00</td>\n",
              "      <td>499.0</td>\n",
              "      <td>499.00</td>\n",
              "      <td>499.00</td>\n",
              "      <td>499.00</td>\n",
              "    </tr>\n",
              "    <tr>\n",
              "      <th>mean</th>\n",
              "      <td>486.86</td>\n",
              "      <td>167.10</td>\n",
              "      <td>113.60</td>\n",
              "      <td>61.60</td>\n",
              "      <td>91.23</td>\n",
              "      <td>24.23</td>\n",
              "      <td>360.35</td>\n",
              "      <td>85.06</td>\n",
              "      <td>12.35</td>\n",
              "      <td>11.77</td>\n",
              "      <td>12.08</td>\n",
              "      <td>13.27</td>\n",
              "      <td>13.63</td>\n",
              "      <td>1.46</td>\n",
              "      <td>0.0</td>\n",
              "      <td>8.72</td>\n",
              "      <td>4277.64</td>\n",
              "      <td>3921.05</td>\n",
              "    </tr>\n",
              "    <tr>\n",
              "      <th>std</th>\n",
              "      <td>1059.17</td>\n",
              "      <td>486.34</td>\n",
              "      <td>221.27</td>\n",
              "      <td>105.42</td>\n",
              "      <td>210.27</td>\n",
              "      <td>85.04</td>\n",
              "      <td>829.84</td>\n",
              "      <td>290.86</td>\n",
              "      <td>124.22</td>\n",
              "      <td>12.11</td>\n",
              "      <td>12.82</td>\n",
              "      <td>14.01</td>\n",
              "      <td>14.84</td>\n",
              "      <td>0.82</td>\n",
              "      <td>0.0</td>\n",
              "      <td>7.35</td>\n",
              "      <td>7071.25</td>\n",
              "      <td>6480.86</td>\n",
              "    </tr>\n",
              "    <tr>\n",
              "      <th>min</th>\n",
              "      <td>9.00</td>\n",
              "      <td>0.00</td>\n",
              "      <td>0.00</td>\n",
              "      <td>0.00</td>\n",
              "      <td>0.00</td>\n",
              "      <td>0.00</td>\n",
              "      <td>0.00</td>\n",
              "      <td>0.00</td>\n",
              "      <td>0.00</td>\n",
              "      <td>0.30</td>\n",
              "      <td>0.30</td>\n",
              "      <td>0.40</td>\n",
              "      <td>0.40</td>\n",
              "      <td>1.00</td>\n",
              "      <td>0.0</td>\n",
              "      <td>1.00</td>\n",
              "      <td>31.00</td>\n",
              "      <td>26.00</td>\n",
              "    </tr>\n",
              "    <tr>\n",
              "      <th>25%</th>\n",
              "      <td>100.50</td>\n",
              "      <td>27.00</td>\n",
              "      <td>13.00</td>\n",
              "      <td>6.00</td>\n",
              "      <td>14.00</td>\n",
              "      <td>0.00</td>\n",
              "      <td>38.00</td>\n",
              "      <td>0.00</td>\n",
              "      <td>0.00</td>\n",
              "      <td>4.30</td>\n",
              "      <td>4.20</td>\n",
              "      <td>4.60</td>\n",
              "      <td>4.40</td>\n",
              "      <td>1.00</td>\n",
              "      <td>0.0</td>\n",
              "      <td>4.00</td>\n",
              "      <td>776.00</td>\n",
              "      <td>703.50</td>\n",
              "    </tr>\n",
              "    <tr>\n",
              "      <th>50%</th>\n",
              "      <td>215.00</td>\n",
              "      <td>63.00</td>\n",
              "      <td>42.00</td>\n",
              "      <td>24.00</td>\n",
              "      <td>36.00</td>\n",
              "      <td>0.00</td>\n",
              "      <td>135.00</td>\n",
              "      <td>4.00</td>\n",
              "      <td>0.00</td>\n",
              "      <td>8.10</td>\n",
              "      <td>8.00</td>\n",
              "      <td>8.80</td>\n",
              "      <td>8.90</td>\n",
              "      <td>1.00</td>\n",
              "      <td>0.0</td>\n",
              "      <td>7.00</td>\n",
              "      <td>2098.00</td>\n",
              "      <td>1829.00</td>\n",
              "    </tr>\n",
              "    <tr>\n",
              "      <th>75%</th>\n",
              "      <td>437.50</td>\n",
              "      <td>152.50</td>\n",
              "      <td>112.00</td>\n",
              "      <td>68.50</td>\n",
              "      <td>84.00</td>\n",
              "      <td>20.00</td>\n",
              "      <td>325.50</td>\n",
              "      <td>87.00</td>\n",
              "      <td>0.00</td>\n",
              "      <td>15.40</td>\n",
              "      <td>15.75</td>\n",
              "      <td>16.35</td>\n",
              "      <td>16.90</td>\n",
              "      <td>2.00</td>\n",
              "      <td>0.0</td>\n",
              "      <td>11.00</td>\n",
              "      <td>4192.00</td>\n",
              "      <td>3826.50</td>\n",
              "    </tr>\n",
              "    <tr>\n",
              "      <th>max</th>\n",
              "      <td>17518.00</td>\n",
              "      <td>9404.00</td>\n",
              "      <td>2455.00</td>\n",
              "      <td>952.00</td>\n",
              "      <td>2955.00</td>\n",
              "      <td>1572.00</td>\n",
              "      <td>13580.00</td>\n",
              "      <td>5193.00</td>\n",
              "      <td>2657.00</td>\n",
              "      <td>83.80</td>\n",
              "      <td>96.60</td>\n",
              "      <td>101.00</td>\n",
              "      <td>108.30</td>\n",
              "      <td>4.00</td>\n",
              "      <td>0.0</td>\n",
              "      <td>84.00</td>\n",
              "      <td>54620.00</td>\n",
              "      <td>54620.00</td>\n",
              "    </tr>\n",
              "  </tbody>\n",
              "</table>\n",
              "</div>"
            ],
            "text/plain": [
              "            AFP    Input   Output  ...  Duration  N_effort    Effort\n",
              "count    499.00   499.00   499.00  ...    499.00    499.00    499.00\n",
              "mean     486.86   167.10   113.60  ...      8.72   4277.64   3921.05\n",
              "std     1059.17   486.34   221.27  ...      7.35   7071.25   6480.86\n",
              "min        9.00     0.00     0.00  ...      1.00     31.00     26.00\n",
              "25%      100.50    27.00    13.00  ...      4.00    776.00    703.50\n",
              "50%      215.00    63.00    42.00  ...      7.00   2098.00   1829.00\n",
              "75%      437.50   152.50   112.00  ...     11.00   4192.00   3826.50\n",
              "max    17518.00  9404.00  2455.00  ...     84.00  54620.00  54620.00\n",
              "\n",
              "[8 rows x 18 columns]"
            ]
          },
          "metadata": {
            "tags": []
          },
          "execution_count": 7
        }
      ]
    },
    {
      "cell_type": "code",
      "metadata": {
        "colab": {
          "base_uri": "https://localhost:8080/"
        },
        "id": "cvPgWiqZpow_",
        "outputId": "fd4687f3-1954-47b2-f194-7f8b1c2c5bcb"
      },
      "source": [
        "dataset = pd.DataFrame(dataset)\n",
        "dataset.shape"
      ],
      "execution_count": 8,
      "outputs": [
        {
          "output_type": "execute_result",
          "data": {
            "text/plain": [
              "(499, 18)"
            ]
          },
          "metadata": {
            "tags": []
          },
          "execution_count": 8
        }
      ]
    },
    {
      "cell_type": "code",
      "metadata": {
        "colab": {
          "base_uri": "https://localhost:8080/",
          "height": 223
        },
        "id": "pFS5N_p6pow_",
        "outputId": "10b9d69d-4aff-4d60-973e-f80aeab7d689"
      },
      "source": [
        "dataset.head()"
      ],
      "execution_count": 9,
      "outputs": [
        {
          "output_type": "execute_result",
          "data": {
            "text/html": [
              "<div>\n",
              "<style scoped>\n",
              "    .dataframe tbody tr th:only-of-type {\n",
              "        vertical-align: middle;\n",
              "    }\n",
              "\n",
              "    .dataframe tbody tr th {\n",
              "        vertical-align: top;\n",
              "    }\n",
              "\n",
              "    .dataframe thead th {\n",
              "        text-align: right;\n",
              "    }\n",
              "</style>\n",
              "<table border=\"1\" class=\"dataframe\">\n",
              "  <thead>\n",
              "    <tr style=\"text-align: right;\">\n",
              "      <th></th>\n",
              "      <th>AFP</th>\n",
              "      <th>Input</th>\n",
              "      <th>Output</th>\n",
              "      <th>Enquiry</th>\n",
              "      <th>File</th>\n",
              "      <th>Interface</th>\n",
              "      <th>Added</th>\n",
              "      <th>Changed</th>\n",
              "      <th>Deleted</th>\n",
              "      <th>PDR_AFP</th>\n",
              "      <th>PDR_UFP</th>\n",
              "      <th>NPDR_AFP</th>\n",
              "      <th>NPDU_UFP</th>\n",
              "      <th>Resource</th>\n",
              "      <th>Dev.Type</th>\n",
              "      <th>Duration</th>\n",
              "      <th>N_effort</th>\n",
              "      <th>Effort</th>\n",
              "    </tr>\n",
              "  </thead>\n",
              "  <tbody>\n",
              "    <tr>\n",
              "      <th>0</th>\n",
              "      <td>1587</td>\n",
              "      <td>774</td>\n",
              "      <td>260</td>\n",
              "      <td>340</td>\n",
              "      <td>128</td>\n",
              "      <td>0</td>\n",
              "      <td>1502</td>\n",
              "      <td>0</td>\n",
              "      <td>0</td>\n",
              "      <td>4.7</td>\n",
              "      <td>5.0</td>\n",
              "      <td>4.7</td>\n",
              "      <td>5.0</td>\n",
              "      <td>4</td>\n",
              "      <td>0</td>\n",
              "      <td>4.0</td>\n",
              "      <td>7490</td>\n",
              "      <td>7490</td>\n",
              "    </tr>\n",
              "    <tr>\n",
              "      <th>1</th>\n",
              "      <td>260</td>\n",
              "      <td>9</td>\n",
              "      <td>4</td>\n",
              "      <td>3</td>\n",
              "      <td>193</td>\n",
              "      <td>41</td>\n",
              "      <td>51</td>\n",
              "      <td>138</td>\n",
              "      <td>61</td>\n",
              "      <td>16.0</td>\n",
              "      <td>16.6</td>\n",
              "      <td>16.0</td>\n",
              "      <td>16.6</td>\n",
              "      <td>2</td>\n",
              "      <td>0</td>\n",
              "      <td>17.0</td>\n",
              "      <td>4150</td>\n",
              "      <td>4150</td>\n",
              "    </tr>\n",
              "    <tr>\n",
              "      <th>2</th>\n",
              "      <td>152</td>\n",
              "      <td>25</td>\n",
              "      <td>33</td>\n",
              "      <td>28</td>\n",
              "      <td>42</td>\n",
              "      <td>35</td>\n",
              "      <td>163</td>\n",
              "      <td>0</td>\n",
              "      <td>0</td>\n",
              "      <td>4.4</td>\n",
              "      <td>4.1</td>\n",
              "      <td>4.4</td>\n",
              "      <td>4.1</td>\n",
              "      <td>1</td>\n",
              "      <td>0</td>\n",
              "      <td>9.0</td>\n",
              "      <td>668</td>\n",
              "      <td>668</td>\n",
              "    </tr>\n",
              "    <tr>\n",
              "      <th>3</th>\n",
              "      <td>252</td>\n",
              "      <td>151</td>\n",
              "      <td>28</td>\n",
              "      <td>8</td>\n",
              "      <td>39</td>\n",
              "      <td>0</td>\n",
              "      <td>69</td>\n",
              "      <td>153</td>\n",
              "      <td>4</td>\n",
              "      <td>12.8</td>\n",
              "      <td>14.3</td>\n",
              "      <td>15.5</td>\n",
              "      <td>17.3</td>\n",
              "      <td>1</td>\n",
              "      <td>0</td>\n",
              "      <td>4.0</td>\n",
              "      <td>3901</td>\n",
              "      <td>3238</td>\n",
              "    </tr>\n",
              "    <tr>\n",
              "      <th>4</th>\n",
              "      <td>292</td>\n",
              "      <td>93</td>\n",
              "      <td>0</td>\n",
              "      <td>194</td>\n",
              "      <td>20</td>\n",
              "      <td>0</td>\n",
              "      <td>0</td>\n",
              "      <td>307</td>\n",
              "      <td>0</td>\n",
              "      <td>10.3</td>\n",
              "      <td>9.8</td>\n",
              "      <td>12.4</td>\n",
              "      <td>11.7</td>\n",
              "      <td>1</td>\n",
              "      <td>0</td>\n",
              "      <td>13.0</td>\n",
              "      <td>3607</td>\n",
              "      <td>2994</td>\n",
              "    </tr>\n",
              "  </tbody>\n",
              "</table>\n",
              "</div>"
            ],
            "text/plain": [
              "    AFP  Input  Output  Enquiry  ...  Dev.Type  Duration  N_effort  Effort\n",
              "0  1587    774     260      340  ...         0       4.0      7490    7490\n",
              "1   260      9       4        3  ...         0      17.0      4150    4150\n",
              "2   152     25      33       28  ...         0       9.0       668     668\n",
              "3   252    151      28        8  ...         0       4.0      3901    3238\n",
              "4   292     93       0      194  ...         0      13.0      3607    2994\n",
              "\n",
              "[5 rows x 18 columns]"
            ]
          },
          "metadata": {
            "tags": []
          },
          "execution_count": 9
        }
      ]
    },
    {
      "cell_type": "markdown",
      "metadata": {
        "id": "8R-7gIX7pow_"
      },
      "source": [
        "## Data preprocessing\n",
        "\n",
        "Next, we will split our dataset to use 90% for training and leave the rest\n",
        "for testing. We will also set the regression model parameters. You can play\n",
        "with these parameters to see how the results change.\n",
        "\n",
        "n_estimators : the number of boosting stages that will be performed.\n",
        "Later, we will plot deviance against boosting iterations.\n",
        "\n",
        "max_depth : limits the number of nodes in the tree.\n",
        "The best value depends on the interaction of the input variables.\n",
        "\n",
        "min_samples_split : the minimum number of samples required to split an\n",
        "internal node.\n",
        "\n",
        "learning_rate : how much the contribution of each tree will shrink.\n",
        "\n",
        "loss : loss function to optimize. The least squares function is  used in this\n",
        "case however, there are many other options (see\n",
        ":class:`~sklearn.ensemble.GradientBoostingRegressor` ).\n",
        "\n"
      ]
    },
    {
      "cell_type": "code",
      "metadata": {
        "id": "aFj_uzec54Fg"
      },
      "source": [
        "dataset = dataset.drop([\"Dev.Type\"], axis=1)"
      ],
      "execution_count": 10,
      "outputs": []
    },
    {
      "cell_type": "markdown",
      "metadata": {
        "id": "C7JYcND5NQUq"
      },
      "source": [
        "dataset = dataset.drop([\"Dev.Type\", \"AFP\", \"Changed\", \"Interface\", \"Deleted\", \"PDR_AFP\", \"PDR_UFP\", \"NPDR_AFP\", \"NPDU_UFP\"], axis=1)"
      ]
    },
    {
      "cell_type": "code",
      "metadata": {
        "colab": {
          "base_uri": "https://localhost:8080/"
        },
        "id": "Sgujh2CXGCCu",
        "outputId": "683c2afc-f8b7-40e8-a765-a43b1b638774"
      },
      "source": [
        "dataset.shape"
      ],
      "execution_count": 11,
      "outputs": [
        {
          "output_type": "execute_result",
          "data": {
            "text/plain": [
              "(499, 17)"
            ]
          },
          "metadata": {
            "tags": []
          },
          "execution_count": 11
        }
      ]
    },
    {
      "cell_type": "code",
      "metadata": {
        "jupyter": {
          "outputs_hidden": false
        },
        "id": "O_xwX6ropoxA"
      },
      "source": [
        "X = dataset.drop('Effort', axis=1)\n",
        "y = dataset['Effort']\n",
        "X_train, X_test, y_train, y_test = train_test_split(\n",
        "    X, y, test_size=0.2, random_state=20)\n",
        "\n",
        "params = {'n_estimators': 1000, 'max_depth': 7, 'subsample' : 0.5,\n",
        "          'min_samples_split': 9, 'learning_rate': 0.01, 'ccp_alpha' : 0.9,\n",
        "          'loss': 'ls', 'criterion':'mae', 'max_features':'auto', 'min_impurity_decrease':0.05,\n",
        "          'min_samples_leaf':1, 'min_weight_fraction_leaf':0.0,\n",
        "          'tol':0.0001, 'warm_start':True}\n"
      ],
      "execution_count": 12,
      "outputs": []
    },
    {
      "cell_type": "markdown",
      "metadata": {
        "id": "F9ugJMcWpoxA"
      },
      "source": [
        "## Fit regression model\n",
        "\n",
        "Now we will initiate the gradient boosting regressors and fit it with our\n",
        "training data. Let's also look and the mean squared error on the test data.\n",
        "\n"
      ]
    },
    {
      "cell_type": "code",
      "metadata": {
        "jupyter": {
          "outputs_hidden": false
        },
        "colab": {
          "base_uri": "https://localhost:8080/"
        },
        "id": "0lfiykk5poxB",
        "outputId": "cecb5b1c-9843-4dff-f776-d06a8dc1768a"
      },
      "source": [
        "reg = ensemble.GradientBoostingRegressor(**params)\n",
        "reg.fit(X_train, y_train)\n",
        "\n",
        "mae = median_absolute_error(y_test, reg.predict(X_test))\n",
        "mse = mean_squared_error(y_test, reg.predict(X_test))\n",
        "rmse = mean_squared_error(y_test, reg.predict(X_test), squared=False)\n",
        "print(\"The Mean Squared Error (MSE) on test set: {:.0f}\".format(mse))\n",
        "print(\"The Root Mean Squared Error (RMSE) on test set: {:.0f}\".format(rmse))"
      ],
      "execution_count": 13,
      "outputs": [
        {
          "output_type": "stream",
          "text": [
            "The Mean Squared Error (MSE) on test set: 2134980\n",
            "The Root Mean Squared Error (RMSE) on test set: 1461\n"
          ],
          "name": "stdout"
        }
      ]
    },
    {
      "cell_type": "code",
      "metadata": {
        "colab": {
          "base_uri": "https://localhost:8080/"
        },
        "id": "Oe50rHYlpoxB",
        "outputId": "8504dc41-fa0a-4c66-9972-44d08c0dec9b"
      },
      "source": [
        "R2 = r2_score(y_test, reg.predict(X_test))\n",
        "print(\"The R squared (R2) score is: {:.2%}\".format(R2))"
      ],
      "execution_count": 14,
      "outputs": [
        {
          "output_type": "stream",
          "text": [
            "The R squared (R2) score is: 94.82%\n"
          ],
          "name": "stdout"
        }
      ]
    },
    {
      "cell_type": "markdown",
      "metadata": {
        "id": "icuJ7dPVpoxB"
      },
      "source": [
        "## Plot training deviance\n",
        "\n",
        "Finally, we will visualize the results. To do that we will first compute the\n",
        "test set deviance and then plot it against boosting iterations.\n",
        "\n"
      ]
    },
    {
      "cell_type": "code",
      "metadata": {
        "jupyter": {
          "outputs_hidden": false
        },
        "colab": {
          "base_uri": "https://localhost:8080/",
          "height": 0
        },
        "id": "MPjQRP_OpoxC",
        "outputId": "2e28f492-bcf0-4456-c097-7db96dadc86f"
      },
      "source": [
        "test_score = np.zeros((params['n_estimators'],), dtype=np.float64)\n",
        "for i, y_pred in enumerate(reg.staged_predict(X_test)):\n",
        "    test_score[i] = reg.loss_(y_test, y_pred)\n",
        "\n",
        "fig = plt.figure(figsize=(6, 6))\n",
        "plt.subplot(1, 1, 1)\n",
        "plt.title('Deviance')\n",
        "plt.plot(np.arange(params['n_estimators']) + 1, reg.train_score_, 'b-',\n",
        "         label='Training Set Deviance')\n",
        "plt.plot(np.arange(params['n_estimators']) + 1, test_score, 'r-',\n",
        "         label='Test Set Deviance')\n",
        "plt.legend(loc='upper right')\n",
        "plt.xlabel('Boosting Iterations')\n",
        "plt.ylabel('Deviance')\n",
        "fig.tight_layout()\n",
        "plt.show()"
      ],
      "execution_count": 15,
      "outputs": [
        {
          "output_type": "display_data",
          "data": {
            "image/png": "[encoded data removed]",
            "text/plain": [
              "<Figure size 432x432 with 1 Axes>"
            ]
          },
          "metadata": {
            "tags": [],
            "needs_background": "light"
          }
        }
      ]
    },
    {
      "cell_type": "markdown",
      "metadata": {
        "id": "OB3V0pShpoxC"
      },
      "source": [
        "## Plot feature importance\n",
        "\n",
        "Careful, impurity-based feature importances can be misleading for\n",
        "high cardinality features (many unique values). As an alternative,\n",
        "the permutation importances of ``reg`` can be computed on a\n",
        "held out test set. See `permutation_importance` for more details.\n",
        "\n",
        "For this example, the impurity-based and permutation methods identify the\n",
        "same 2 strongly predictive features but not in the same order. The third most\n",
        "predictive feature, \"bp\", is also the same for the 2 methods. The remaining\n",
        "features are less predictive and the error bars of the permutation plot\n",
        "show that they overlap with 0.\n",
        "\n"
      ]
    },
    {
      "cell_type": "code",
      "metadata": {
        "jupyter": {
          "outputs_hidden": false
        },
        "colab": {
          "base_uri": "https://localhost:8080/",
          "height": 0
        },
        "id": "5NOdHhAopoxD",
        "outputId": "b3505dab-b7cb-4481-8dce-d6a52fff3890"
      },
      "source": [
        "feature_importance = reg.feature_importances_\n",
        "sorted_idx = np.argsort(feature_importance)\n",
        "pos = np.arange(sorted_idx.shape[0]) + .5\n",
        "fig = plt.figure(figsize=(12, 6))\n",
        "plt.subplot(1, 2, 1)\n",
        "plt.barh(pos, feature_importance[sorted_idx], align='center')\n",
        "plt.yticks(pos, np.array(dataset.columns)[sorted_idx])\n",
        "plt.title('Feature Importance (Effort)')\n",
        "\n",
        "result = permutation_importance(reg, X_test, y_test, n_repeats=10,\n",
        "                                random_state=42, n_jobs=2)\n",
        "sorted_idx = result.importances_mean.argsort()\n",
        "plt.subplot(1, 2, 2)\n",
        "plt.boxplot(result.importances[sorted_idx].T,\n",
        "            vert=False, labels=np.array(dataset.columns)[sorted_idx])\n",
        "plt.title(\"Permutation Importance (test set)\")\n",
        "fig.tight_layout()\n",
        "plt.show()"
      ],
      "execution_count": 16,
      "outputs": [
        {
          "output_type": "display_data",
          "data": {
            "image/png": "[encoded data removed]",
            "text/plain": [
              "<Figure size 864x432 with 2 Axes>"
            ]
          },
          "metadata": {
            "tags": [],
            "needs_background": "light"
          }
        }
      ]
    },
    {
      "cell_type": "code",
      "metadata": {
        "id": "TQcp_rn8poxE"
      },
      "source": [
        ""
      ],
      "execution_count": 16,
      "outputs": []
    },
    {
      "cell_type": "markdown",
      "metadata": {
        "id": "YrXIlW5vDTQU"
      },
      "source": [
        "#Dataset Cocomo81"
      ]
    },
    {
      "cell_type": "markdown",
      "metadata": {
        "id": "9bVWAHioDZJU"
      },
      "source": [
        "## Load the data\n",
        "\n",
        "First we need to load the data.\n",
        "\n"
      ]
    },
    {
      "cell_type": "code",
      "metadata": {
        "jupyter": {
          "outputs_hidden": false
        },
        "colab": {
          "base_uri": "https://localhost:8080/",
          "height": 295
        },
        "id": "BLyijUP8DZJV",
        "outputId": "f4a294c3-df68-4715-b586-8d1e8fc693fe"
      },
      "source": [
        "dataset = pd.read_csv('/content/drive/MyDrive/Colab Notebooks/albrecht.csv')\n",
        "dataset.describe().round(2)"
      ],
      "execution_count": 52,
      "outputs": [
        {
          "output_type": "execute_result",
          "data": {
            "text/html": [
              "<div>\n",
              "<style scoped>\n",
              "    .dataframe tbody tr th:only-of-type {\n",
              "        vertical-align: middle;\n",
              "    }\n",
              "\n",
              "    .dataframe tbody tr th {\n",
              "        vertical-align: top;\n",
              "    }\n",
              "\n",
              "    .dataframe thead th {\n",
              "        text-align: right;\n",
              "    }\n",
              "</style>\n",
              "<table border=\"1\" class=\"dataframe\">\n",
              "  <thead>\n",
              "    <tr style=\"text-align: right;\">\n",
              "      <th></th>\n",
              "      <th>Input</th>\n",
              "      <th>Output</th>\n",
              "      <th>Inquiry</th>\n",
              "      <th>File</th>\n",
              "      <th>FPAdj</th>\n",
              "      <th>RawFPcounts</th>\n",
              "      <th>AdjFP</th>\n",
              "      <th>Effort</th>\n",
              "    </tr>\n",
              "  </thead>\n",
              "  <tbody>\n",
              "    <tr>\n",
              "      <th>count</th>\n",
              "      <td>24.00</td>\n",
              "      <td>24.00</td>\n",
              "      <td>24.00</td>\n",
              "      <td>24.00</td>\n",
              "      <td>24.00</td>\n",
              "      <td>24.00</td>\n",
              "      <td>24.00</td>\n",
              "      <td>24.00</td>\n",
              "    </tr>\n",
              "    <tr>\n",
              "      <th>mean</th>\n",
              "      <td>40.25</td>\n",
              "      <td>47.25</td>\n",
              "      <td>16.88</td>\n",
              "      <td>17.38</td>\n",
              "      <td>0.99</td>\n",
              "      <td>638.54</td>\n",
              "      <td>647.62</td>\n",
              "      <td>21.88</td>\n",
              "    </tr>\n",
              "    <tr>\n",
              "      <th>std</th>\n",
              "      <td>36.91</td>\n",
              "      <td>35.17</td>\n",
              "      <td>19.34</td>\n",
              "      <td>15.52</td>\n",
              "      <td>0.14</td>\n",
              "      <td>452.65</td>\n",
              "      <td>488.00</td>\n",
              "      <td>28.42</td>\n",
              "    </tr>\n",
              "    <tr>\n",
              "      <th>min</th>\n",
              "      <td>7.00</td>\n",
              "      <td>12.00</td>\n",
              "      <td>0.00</td>\n",
              "      <td>3.00</td>\n",
              "      <td>0.75</td>\n",
              "      <td>189.52</td>\n",
              "      <td>199.00</td>\n",
              "      <td>0.50</td>\n",
              "    </tr>\n",
              "    <tr>\n",
              "      <th>25%</th>\n",
              "      <td>23.00</td>\n",
              "      <td>18.50</td>\n",
              "      <td>3.25</td>\n",
              "      <td>5.75</td>\n",
              "      <td>0.89</td>\n",
              "      <td>347.40</td>\n",
              "      <td>287.50</td>\n",
              "      <td>7.15</td>\n",
              "    </tr>\n",
              "    <tr>\n",
              "      <th>50%</th>\n",
              "      <td>33.50</td>\n",
              "      <td>39.00</td>\n",
              "      <td>13.50</td>\n",
              "      <td>11.50</td>\n",
              "      <td>1.00</td>\n",
              "      <td>489.10</td>\n",
              "      <td>506.00</td>\n",
              "      <td>11.45</td>\n",
              "    </tr>\n",
              "    <tr>\n",
              "      <th>75%</th>\n",
              "      <td>43.50</td>\n",
              "      <td>64.50</td>\n",
              "      <td>20.25</td>\n",
              "      <td>22.25</td>\n",
              "      <td>1.10</td>\n",
              "      <td>699.45</td>\n",
              "      <td>710.25</td>\n",
              "      <td>19.52</td>\n",
              "    </tr>\n",
              "    <tr>\n",
              "      <th>max</th>\n",
              "      <td>193.00</td>\n",
              "      <td>150.00</td>\n",
              "      <td>75.00</td>\n",
              "      <td>60.00</td>\n",
              "      <td>1.20</td>\n",
              "      <td>1902.00</td>\n",
              "      <td>1902.00</td>\n",
              "      <td>105.20</td>\n",
              "    </tr>\n",
              "  </tbody>\n",
              "</table>\n",
              "</div>"
            ],
            "text/plain": [
              "        Input  Output  Inquiry   File  FPAdj  RawFPcounts    AdjFP  Effort\n",
              "count   24.00   24.00    24.00  24.00  24.00        24.00    24.00   24.00\n",
              "mean    40.25   47.25    16.88  17.38   0.99       638.54   647.62   21.88\n",
              "std     36.91   35.17    19.34  15.52   0.14       452.65   488.00   28.42\n",
              "min      7.00   12.00     0.00   3.00   0.75       189.52   199.00    0.50\n",
              "25%     23.00   18.50     3.25   5.75   0.89       347.40   287.50    7.15\n",
              "50%     33.50   39.00    13.50  11.50   1.00       489.10   506.00   11.45\n",
              "75%     43.50   64.50    20.25  22.25   1.10       699.45   710.25   19.52\n",
              "max    193.00  150.00    75.00  60.00   1.20      1902.00  1902.00  105.20"
            ]
          },
          "metadata": {
            "tags": []
          },
          "execution_count": 52
        }
      ]
    },
    {
      "cell_type": "code",
      "metadata": {
        "colab": {
          "base_uri": "https://localhost:8080/"
        },
        "id": "n2uFwBpwDZJV",
        "outputId": "c7b6e63c-c43b-47b7-8bfb-139c761e6379"
      },
      "source": [
        "dataset = pd.DataFrame(dataset)\n",
        "dataset.shape"
      ],
      "execution_count": 53,
      "outputs": [
        {
          "output_type": "execute_result",
          "data": {
            "text/plain": [
              "(24, 8)"
            ]
          },
          "metadata": {
            "tags": []
          },
          "execution_count": 53
        }
      ]
    },
    {
      "cell_type": "code",
      "metadata": {
        "colab": {
          "base_uri": "https://localhost:8080/",
          "height": 203
        },
        "id": "NQB60vm5DZJV",
        "outputId": "eba0323b-63d0-4724-dbbd-f03e665b1f19"
      },
      "source": [
        "dataset.head()"
      ],
      "execution_count": 54,
      "outputs": [
        {
          "output_type": "execute_result",
          "data": {
            "text/html": [
              "<div>\n",
              "<style scoped>\n",
              "    .dataframe tbody tr th:only-of-type {\n",
              "        vertical-align: middle;\n",
              "    }\n",
              "\n",
              "    .dataframe tbody tr th {\n",
              "        vertical-align: top;\n",
              "    }\n",
              "\n",
              "    .dataframe thead th {\n",
              "        text-align: right;\n",
              "    }\n",
              "</style>\n",
              "<table border=\"1\" class=\"dataframe\">\n",
              "  <thead>\n",
              "    <tr style=\"text-align: right;\">\n",
              "      <th></th>\n",
              "      <th>Input</th>\n",
              "      <th>Output</th>\n",
              "      <th>Inquiry</th>\n",
              "      <th>File</th>\n",
              "      <th>FPAdj</th>\n",
              "      <th>RawFPcounts</th>\n",
              "      <th>AdjFP</th>\n",
              "      <th>Effort</th>\n",
              "    </tr>\n",
              "  </thead>\n",
              "  <tbody>\n",
              "    <tr>\n",
              "      <th>0</th>\n",
              "      <td>25</td>\n",
              "      <td>150</td>\n",
              "      <td>75</td>\n",
              "      <td>60</td>\n",
              "      <td>1.00</td>\n",
              "      <td>1750.00</td>\n",
              "      <td>1750</td>\n",
              "      <td>102.4</td>\n",
              "    </tr>\n",
              "    <tr>\n",
              "      <th>1</th>\n",
              "      <td>193</td>\n",
              "      <td>98</td>\n",
              "      <td>70</td>\n",
              "      <td>36</td>\n",
              "      <td>1.00</td>\n",
              "      <td>1902.00</td>\n",
              "      <td>1902</td>\n",
              "      <td>105.2</td>\n",
              "    </tr>\n",
              "    <tr>\n",
              "      <th>2</th>\n",
              "      <td>70</td>\n",
              "      <td>27</td>\n",
              "      <td>0</td>\n",
              "      <td>12</td>\n",
              "      <td>0.80</td>\n",
              "      <td>535.00</td>\n",
              "      <td>428</td>\n",
              "      <td>11.1</td>\n",
              "    </tr>\n",
              "    <tr>\n",
              "      <th>3</th>\n",
              "      <td>40</td>\n",
              "      <td>60</td>\n",
              "      <td>20</td>\n",
              "      <td>12</td>\n",
              "      <td>1.15</td>\n",
              "      <td>660.00</td>\n",
              "      <td>759</td>\n",
              "      <td>21.1</td>\n",
              "    </tr>\n",
              "    <tr>\n",
              "      <th>4</th>\n",
              "      <td>10</td>\n",
              "      <td>69</td>\n",
              "      <td>1</td>\n",
              "      <td>9</td>\n",
              "      <td>0.90</td>\n",
              "      <td>478.89</td>\n",
              "      <td>431</td>\n",
              "      <td>28.8</td>\n",
              "    </tr>\n",
              "  </tbody>\n",
              "</table>\n",
              "</div>"
            ],
            "text/plain": [
              "   Input  Output  Inquiry  File  FPAdj  RawFPcounts  AdjFP  Effort\n",
              "0     25     150       75    60   1.00      1750.00   1750   102.4\n",
              "1    193      98       70    36   1.00      1902.00   1902   105.2\n",
              "2     70      27        0    12   0.80       535.00    428    11.1\n",
              "3     40      60       20    12   1.15       660.00    759    21.1\n",
              "4     10      69        1     9   0.90       478.89    431    28.8"
            ]
          },
          "metadata": {
            "tags": []
          },
          "execution_count": 54
        }
      ]
    },
    {
      "cell_type": "markdown",
      "metadata": {
        "id": "YBkExNudDmmL"
      },
      "source": [
        "## Data preprocessing\n",
        "\n",
        "Next, we will split our dataset to use 90% for training and leave the rest\n",
        "for testing. We will also set the regression model parameters. You can play\n",
        "with these parameters to see how the results change.\n",
        "\n",
        "n_estimators : the number of boosting stages that will be performed.\n",
        "Later, we will plot deviance against boosting iterations.\n",
        "\n",
        "max_depth : limits the number of nodes in the tree.\n",
        "The best value depends on the interaction of the input variables.\n",
        "\n",
        "min_samples_split : the minimum number of samples required to split an\n",
        "internal node.\n",
        "\n",
        "learning_rate : how much the contribution of each tree will shrink.\n",
        "\n",
        "loss : loss function to optimize. The least squares function is  used in this\n",
        "case however, there are many other options (see\n",
        ":class:`~sklearn.ensemble.GradientBoostingRegressor` ).\n",
        "\n"
      ]
    },
    {
      "cell_type": "code",
      "metadata": {
        "id": "kjVFBK1gDmmM"
      },
      "source": [
        "#dataset = dataset.drop([\"Dev.Type\"], axis=1)"
      ],
      "execution_count": 21,
      "outputs": []
    },
    {
      "cell_type": "markdown",
      "metadata": {
        "id": "B8vH_daPDmmM"
      },
      "source": [
        "dataset = dataset.drop([\"Dev.Type\", \"AFP\", \"Changed\", \"Interface\", \"Deleted\", \"PDR_AFP\", \"PDR_UFP\", \"NPDR_AFP\", \"NPDU_UFP\"], axis=1)"
      ]
    },
    {
      "cell_type": "code",
      "metadata": {
        "colab": {
          "base_uri": "https://localhost:8080/"
        },
        "id": "YaU-DoykDmmM",
        "outputId": "40e4abaa-56a5-4562-b9bf-7300d7fe683a"
      },
      "source": [
        "dataset.shape"
      ],
      "execution_count": 26,
      "outputs": [
        {
          "output_type": "execute_result",
          "data": {
            "text/plain": [
              "(63, 17)"
            ]
          },
          "metadata": {
            "tags": []
          },
          "execution_count": 26
        }
      ]
    },
    {
      "cell_type": "code",
      "metadata": {
        "jupyter": {
          "outputs_hidden": false
        },
        "id": "bttZa_R3DmmN"
      },
      "source": [
        "X = dataset.drop('Effort', axis=1)\n",
        "y = dataset['Effort']\n",
        "X_train, X_test, y_train, y_test = train_test_split(\n",
        "    X, y, test_size=0.2, random_state=20)\n",
        "\n",
        "params = {'n_estimators': 1000, 'max_depth': 7, 'subsample' : 0.5,\n",
        "          'min_samples_split': 9, 'learning_rate': 0.01, 'ccp_alpha' : 0.9,\n",
        "          'loss': 'ls', 'criterion':'mae', 'max_features':'auto', 'min_impurity_decrease':0.05,\n",
        "          'min_samples_leaf':1, 'min_weight_fraction_leaf':0.0,\n",
        "          'tol':0.0001, 'warm_start':True}\n"
      ],
      "execution_count": 55,
      "outputs": []
    },
    {
      "cell_type": "markdown",
      "metadata": {
        "id": "dqenuesND1vV"
      },
      "source": [
        "## Fit regression model\n",
        "\n",
        "Now we will initiate the gradient boosting regressors and fit it with our\n",
        "training data. Let's also look and the mean squared error on the test data.\n",
        "\n"
      ]
    },
    {
      "cell_type": "code",
      "metadata": {
        "jupyter": {
          "outputs_hidden": false
        },
        "colab": {
          "base_uri": "https://localhost:8080/"
        },
        "id": "1SJqthUTD1vV",
        "outputId": "e2148147-96e1-4d83-9ec9-414027f28b38"
      },
      "source": [
        "reg = ensemble.GradientBoostingRegressor(**params)\n",
        "reg.fit(X_train, y_train)\n",
        "\n",
        "mae = median_absolute_error(y_test, reg.predict(X_test))\n",
        "mse = mean_squared_error(y_test, reg.predict(X_test))\n",
        "rmse = mean_squared_error(y_test, reg.predict(X_test), squared=False)\n",
        "print(\"The Mean Squared Error (MSE) on test set: {:.0f}\".format(mse))\n",
        "print(\"The Root Mean Squared Error (RMSE) on test set: {:.0f}\".format(rmse))"
      ],
      "execution_count": 56,
      "outputs": [
        {
          "output_type": "stream",
          "text": [
            "The Mean Squared Error (MSE) on test set: 285\n",
            "The Root Mean Squared Error (RMSE) on test set: 17\n"
          ],
          "name": "stdout"
        }
      ]
    },
    {
      "cell_type": "code",
      "metadata": {
        "colab": {
          "base_uri": "https://localhost:8080/"
        },
        "id": "bTPGePIAD1vW",
        "outputId": "bc94c36e-086f-48f2-dd98-c1c39d79d8ab"
      },
      "source": [
        "R2 = r2_score(y_test, reg.predict(X_test))\n",
        "print(\"The R squared (R2) score is: {:.2%}\".format(R2))"
      ],
      "execution_count": 57,
      "outputs": [
        {
          "output_type": "stream",
          "text": [
            "The R squared (R2) score is: 78.14%\n"
          ],
          "name": "stdout"
        }
      ]
    },
    {
      "cell_type": "markdown",
      "metadata": {
        "id": "zrgiXRrXD8Tm"
      },
      "source": [
        "## Plot training deviance\n",
        "\n",
        "Finally, we will visualize the results. To do that we will first compute the\n",
        "test set deviance and then plot it against boosting iterations.\n",
        "\n"
      ]
    },
    {
      "cell_type": "code",
      "metadata": {
        "jupyter": {
          "outputs_hidden": false
        },
        "colab": {
          "base_uri": "https://localhost:8080/",
          "height": 441
        },
        "id": "yhckXbHkD8Tm",
        "outputId": "cb57e6f8-12c4-4ed0-c996-d108f7a23272"
      },
      "source": [
        "test_score = np.zeros((params['n_estimators'],), dtype=np.float64)\n",
        "for i, y_pred in enumerate(reg.staged_predict(X_test)):\n",
        "    test_score[i] = reg.loss_(y_test, y_pred)\n",
        "\n",
        "fig = plt.figure(figsize=(6, 6))\n",
        "plt.subplot(1, 1, 1)\n",
        "plt.title('Deviance')\n",
        "plt.plot(np.arange(params['n_estimators']) + 1, reg.train_score_, 'b-',\n",
        "         label='Training Set Deviance')\n",
        "plt.plot(np.arange(params['n_estimators']) + 1, test_score, 'r-',\n",
        "         label='Test Set Deviance')\n",
        "plt.legend(loc='upper right')\n",
        "plt.xlabel('Boosting Iterations')\n",
        "plt.ylabel('Deviance')\n",
        "fig.tight_layout()\n",
        "plt.show()"
      ],
      "execution_count": 30,
      "outputs": [
        {
          "output_type": "display_data",
          "data": {
            "image/png": "[encoded data removed]",
            "text/plain": [
              "<Figure size 432x432 with 1 Axes>"
            ]
          },
          "metadata": {
            "tags": [],
            "needs_background": "light"
          }
        }
      ]
    },
    {
      "cell_type": "markdown",
      "metadata": {
        "id": "zNsrT5gdEBwL"
      },
      "source": [
        "## Plot feature importance\n",
        "\n",
        "Careful, impurity-based feature importances can be misleading for\n",
        "high cardinality features (many unique values). As an alternative,\n",
        "the permutation importances of ``reg`` can be computed on a\n",
        "held out test set. See `permutation_importance` for more details.\n",
        "\n",
        "For this example, the impurity-based and permutation methods identify the\n",
        "same 2 strongly predictive features but not in the same order. The third most\n",
        "predictive feature, \"bp\", is also the same for the 2 methods. The remaining\n",
        "features are less predictive and the error bars of the permutation plot\n",
        "show that they overlap with 0.\n",
        "\n"
      ]
    },
    {
      "cell_type": "code",
      "metadata": {
        "jupyter": {
          "outputs_hidden": false
        },
        "colab": {
          "base_uri": "https://localhost:8080/",
          "height": 441
        },
        "id": "yEYOEI2XEBwM",
        "outputId": "20018d50-25ce-4e0d-9c94-d56e69ff6d32"
      },
      "source": [
        "feature_importance = reg.feature_importances_\n",
        "sorted_idx = np.argsort(feature_importance)\n",
        "pos = np.arange(sorted_idx.shape[0]) + .5\n",
        "fig = plt.figure(figsize=(12, 6))\n",
        "plt.subplot(1, 2, 1)\n",
        "plt.barh(pos, feature_importance[sorted_idx], align='center')\n",
        "plt.yticks(pos, np.array(dataset.columns)[sorted_idx])\n",
        "plt.title('Feature Importance (Effort)')\n",
        "\n",
        "result = permutation_importance(reg, X_test, y_test, n_repeats=10,\n",
        "                                random_state=42, n_jobs=2)\n",
        "sorted_idx = result.importances_mean.argsort()\n",
        "plt.subplot(1, 2, 2)\n",
        "plt.boxplot(result.importances[sorted_idx].T,\n",
        "            vert=False, labels=np.array(dataset.columns)[sorted_idx])\n",
        "plt.title(\"Permutation Importance (test set)\")\n",
        "fig.tight_layout()\n",
        "plt.show()"
      ],
      "execution_count": 31,
      "outputs": [
        {
          "output_type": "display_data",
          "data": {
            "image/png": "[encoded data removed]",
            "text/plain": [
              "<Figure size 864x432 with 2 Axes>"
            ]
          },
          "metadata": {
            "tags": [],
            "needs_background": "light"
          }
        }
      ]
    },
    {
      "cell_type": "code",
      "metadata": {
        "id": "jcz8Pz-0EBwM"
      },
      "source": [
        ""
      ],
      "execution_count": 31,
      "outputs": []
    }
  ]
}